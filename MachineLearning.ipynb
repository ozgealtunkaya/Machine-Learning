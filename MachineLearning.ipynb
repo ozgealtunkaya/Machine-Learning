{
 "cells": [
  {
   "cell_type": "code",
   "execution_count": 1,
   "metadata": {},
   "outputs": [
    {
     "name": "stdout",
     "output_type": "stream",
     "text": [
      "     kategori                                        temiz_haber\n",
      "0  arts  life  even death artist even death artist from paris...\n",
      "1       world  reopens travellers reopens travellers gondolas...\n",
      "2  arts  life  alamy photoalamy photorestoration works ongoin...\n",
      "3     economy  consumer prices consumer prices mays annual a ...\n",
      "4     economy  btc oil btc oil the oil delivered  kilometerlo...\n",
      "5     economy  the development investment bank the developmen...\n",
      "6       world  britains foreign minister said spoken five eye...\n",
      "7     economy  thy set resume flights  cities six european co...\n",
      "8       world  a storm arabian sea a storm arabian sea nisarg...\n",
      "9      sports  the turkish the turkish nearly  competitors to...\n",
      "2276316\n"
     ]
    }
   ],
   "source": [
    "import logging\n",
    "import pandas as pd\n",
    "import numpy as np\n",
    "from numpy import random\n",
    "import nltk\n",
    "from sklearn.model_selection import train_test_split\n",
    "from sklearn.feature_extraction.text import CountVectorizer, TfidfVectorizer\n",
    "from sklearn.metrics import accuracy_score, confusion_matrix\n",
    "import matplotlib.pyplot as plt\n",
    "from nltk.corpus import stopwords\n",
    "import re\n",
    "from bs4 import BeautifulSoup\n",
    "%matplotlib inline\n",
    "\n",
    "df = pd.read_csv('ensonhali.csv')\n",
    "df.drop([\"sentiment\",\"subjectivity\",\"polarity\"], axis = 1, inplace = True) \n",
    "df = df[pd.notnull(df['kategori'])]\n",
    "print(df.head(10))\n",
    "print(df['temiz_haber'].apply(lambda x: len(x.split(' '))).sum())"
   ]
  },
  {
   "cell_type": "code",
   "execution_count": 2,
   "metadata": {},
   "outputs": [
    {
     "data": {
      "image/png": "[encoded data removed]",
      "text/plain": [
       "<Figure size 720x288 with 1 Axes>"
      ]
     },
     "metadata": {
      "needs_background": "light"
     },
     "output_type": "display_data"
    }
   ],
   "source": [
    "my_tags = ['economy','turkey','world','sports','arts  life','other','home page']\n",
    "plt.figure(figsize=(10,4))\n",
    "df.kategori.value_counts().plot(kind='bar');"
   ]
  },
  {
   "cell_type": "code",
   "execution_count": 3,
   "metadata": {},
   "outputs": [
    {
     "name": "stdout",
     "output_type": "stream",
     "text": [
      "june  evacuated expatriate family one members infected june  evacuated expatriate family one members infected a turkish air ambulance carrying couple three children left cairo international airport arrived çorlu atatürk airport northwestern turkeykader biçer mother contracting coronavirus husband veli biçer symptoms disease children ensar ebrar erva referred local hospital arrivalhasan biçer velis brother told reporters happy biçer family back homebrother biçer said family treated egypt my brother wife stayed home without medication treatment so apply return homehe thanked president recep tayyip erdoğan officials made possible family come back turkeyturkish authorities took action bring biçer family turkey children called help video shared youtube\n",
      "Kategori: turkey\n"
     ]
    }
   ],
   "source": [
    "def print_plot(index):\n",
    "    example = df[df.index == index][['temiz_haber', 'kategori']].values[0]\n",
    "    if len(example) > 0:\n",
    "        print(example[0])\n",
    "        print('Kategori:', example[1])\n",
    "\n",
    "print_plot(10)"
   ]
  },
  {
   "cell_type": "code",
   "execution_count": 4,
   "metadata": {},
   "outputs": [
    {
     "name": "stdout",
     "output_type": "stream",
     "text": [
      "from canceled iftar feasts suspended mosque prayers muslims across middle east bracing bleak month from canceled iftar feasts suspended mosque prayers muslims across middle east bracing bleak month ramadan period selfreflection socializing believers fast dawn dusk gather around family community meal evening islams holiest month begins later week ends eid alfitr festivitiesbut year fastspreading novel more dispiriting many devout muslims congregational worship including taraweeh night prayers prohibited mosques across region many closed bid slow spread virusseveral countries religious authorities including saudi arabias grand mufti abdulaziz alsheikh ruled prayers ramadan eid performed homeour hearts crying said ali mulla muezzin grand mosque meccawe used seeing holy mosque crowded people day night time i feel pain deep insidein recent weeks stunning emptiness enveloped sacred kaaba large black cube structure draped goldembroidered cloth grand mosque towards muslims around world praythe whitetiled area around kaaba usually packed tens thousands pilgrimsramadan considered auspicious period perform yearround umrah pilgrimage saudi authorities suspended last monthit likely larger hajj pilgrimage set end july also canceled first time modern history saudi arabia urged muslims temporarily defer preparationsthe grand mufti jerusalem palestinian territories muhammad hussein announced similar prayer restrictions ramadan also advising public sighting crescent moon used estimate start holy monththe restrictions line recommendations world health organization urged countries stop large numbers people gathering places associated ramadan activities entertainment venues markets shopsthe restrictions hit businesses hard including retailers catering typical rush ramadan shoppersthis year feasts visits i feel besieged virus wherever gosanctionsstricken iran last week allowed shuttered tehran businesses reopen despite one worsthit countries middle east many citizens face bitter choice risking infection economic hardshipofficial statistics show disease killed  people infected  iran actual figures thought highersupreme leader ayatollah ali khamenei appealed iranians pray home ramadan urging not neglect worship invocation humility lonelinessthere levity though cairo egyptian capitals narrow alleys downtown markets still covered traditional ramadan decorations brightly colored lanterns known fawanees\n",
      "Kategori: world\n"
     ]
    }
   ],
   "source": [
    "print_plot(30)"
   ]
  },
  {
   "cell_type": "code",
   "execution_count": 5,
   "metadata": {},
   "outputs": [
    {
     "name": "stdout",
     "output_type": "stream",
     "text": [
      "june evacuated expatriate family one members infected june evacuated expatriate family one members infected turkish air ambulance carrying couple three children left cairo international airport arrived orlu atatrk airport northwestern turkeykader bier mother contracting coronavirus husband veli bier symptoms disease children ensar ebrar erva referred local hospital arrivalhasan bier velis brother told reporters happy bier family back homebrother bier said family treated egypt brother wife stayed home without medication treatment apply return homehe thanked president recep tayyip erdoan officials made possible family come back turkeyturkish authorities took action bring bier family turkey children called help video shared youtube\n",
      "Kategori: turkey\n"
     ]
    }
   ],
   "source": [
    "REPLACE_BY_SPACE_RE = re.compile('[/(){}\\[\\]\\|@,;]')\n",
    "BAD_SYMBOLS_RE = re.compile('[^0-9a-z #+_]')\n",
    "STOPWORDS = set(stopwords.words('english'))\n",
    "\n",
    "def clean_text(text):\n",
    "    \"\"\"\n",
    "        text: a string\n",
    "        \n",
    "        return: modified initial string\n",
    "    \"\"\"\n",
    "    text = BeautifulSoup(text, \"lxml\").text # HTML decoding\n",
    "    text = text.lower() # lowercase text\n",
    "    text = REPLACE_BY_SPACE_RE.sub(' ', text) # replace REPLACE_BY_SPACE_RE symbols by space in text\n",
    "    text = BAD_SYMBOLS_RE.sub('', text) # delete symbols which are in BAD_SYMBOLS_RE from text\n",
    "    text = ' '.join(word for word in text.split() if word not in STOPWORDS) # delete stopwors from text\n",
    "    return text\n",
    "    \n",
    "df['temiz_haber'] = df['temiz_haber'].apply(clean_text)\n",
    "print_plot(10)"
   ]
  },
  {
   "cell_type": "code",
   "execution_count": 6,
   "metadata": {},
   "outputs": [
    {
     "data": {
      "text/plain": [
       "2094690"
      ]
     },
     "execution_count": 6,
     "metadata": {},
     "output_type": "execute_result"
    }
   ],
   "source": [
    "df['temiz_haber'].apply(lambda x: len(x.split(' '))).sum()"
   ]
  },
  {
   "cell_type": "code",
   "execution_count": 7,
   "metadata": {},
   "outputs": [],
   "source": [
    "X = df.temiz_haber\n",
    "y = df.kategori\n",
    "X_train, X_test, y_train, y_test = train_test_split(X, y, test_size=0.2, random_state = 42)"
   ]
  },
  {
   "cell_type": "code",
   "execution_count": 8,
   "metadata": {},
   "outputs": [
    {
     "name": "stdout",
     "output_type": "stream",
     "text": [
      "accuracy 0.6994767007226513\n",
      "              precision    recall  f1-score   support\n",
      "\n",
      "     economy       0.95      0.47      0.63      1258\n",
      "      turkey       0.93      0.42      0.58      1288\n",
      "       world       0.00      0.00      0.00         1\n",
      "      sports       0.00      0.00      0.00        28\n",
      "  arts  life       0.96      0.53      0.68       605\n",
      "       other       0.63      0.89      0.74      2586\n",
      "   home page       0.66      0.82      0.73      2260\n",
      "\n",
      "    accuracy                           0.70      8026\n",
      "   macro avg       0.59      0.45      0.48      8026\n",
      "weighted avg       0.76      0.70      0.69      8026\n",
      "\n"
     ]
    },
    {
     "name": "stderr",
     "output_type": "stream",
     "text": [
      "C:\\ProgramData\\Anaconda3\\lib\\site-packages\\sklearn\\metrics\\_classification.py:1272: UndefinedMetricWarning: Precision and F-score are ill-defined and being set to 0.0 in labels with no predicted samples. Use `zero_division` parameter to control this behavior.\n",
      "  _warn_prf(average, modifier, msg_start, len(result))\n"
     ]
    }
   ],
   "source": [
    "from sklearn.naive_bayes import MultinomialNB\n",
    "from sklearn.pipeline import Pipeline\n",
    "from sklearn.feature_extraction.text import TfidfTransformer\n",
    "\n",
    "nb = Pipeline([('vect', CountVectorizer()),\n",
    "               ('tfidf', TfidfTransformer()),\n",
    "               ('clf', MultinomialNB()),\n",
    "              ])\n",
    "nb.fit(X_train, y_train)\n",
    "\n",
    "from sklearn.metrics import classification_report\n",
    "y_pred = nb.predict(X_test)\n",
    "\n",
    "print('accuracy %s' % accuracy_score(y_pred, y_test))\n",
    "print(classification_report(y_test, y_pred,target_names=my_tags))"
   ]
  },
  {
   "cell_type": "code",
   "execution_count": 9,
   "metadata": {},
   "outputs": [
    {
     "name": "stdout",
     "output_type": "stream",
     "text": [
      "accuracy 0.6750560677797159\n",
      "              precision    recall  f1-score   support\n",
      "\n",
      "     economy       0.86      0.37      0.52      1258\n",
      "      turkey       0.87      0.41      0.56      1288\n",
      "       world       0.00      0.00      0.00         1\n",
      "      sports       0.00      0.00      0.00        28\n",
      "  arts  life       0.97      0.44      0.61       605\n",
      "       other       0.66      0.84      0.74      2586\n",
      "   home page       0.60      0.87      0.71      2260\n",
      "\n",
      "    accuracy                           0.68      8026\n",
      "   macro avg       0.57      0.42      0.45      8026\n",
      "weighted avg       0.73      0.68      0.66      8026\n",
      "\n"
     ]
    },
    {
     "name": "stderr",
     "output_type": "stream",
     "text": [
      "C:\\ProgramData\\Anaconda3\\lib\\site-packages\\sklearn\\metrics\\_classification.py:1272: UndefinedMetricWarning: Precision and F-score are ill-defined and being set to 0.0 in labels with no predicted samples. Use `zero_division` parameter to control this behavior.\n",
      "  _warn_prf(average, modifier, msg_start, len(result))\n"
     ]
    }
   ],
   "source": [
    "from sklearn.naive_bayes import BernoulliNB\n",
    "from sklearn.pipeline import Pipeline\n",
    "from sklearn.feature_extraction.text import TfidfTransformer\n",
    "\n",
    "bn = Pipeline([('vect', CountVectorizer()),\n",
    "               ('tfidf', TfidfTransformer()),\n",
    "               ('clf', BernoulliNB()),\n",
    "              ])\n",
    "\n",
    "bn.fit(X_train, y_train)\n",
    "\n",
    "from sklearn.metrics import classification_report\n",
    "y_pred = bn.predict(X_test)\n",
    "\n",
    "print('accuracy %s' % accuracy_score(y_pred, y_test))\n",
    "print(classification_report(y_test, y_pred,target_names=my_tags))"
   ]
  },
  {
   "cell_type": "code",
   "execution_count": 10,
   "metadata": {},
   "outputs": [
    {
     "name": "stdout",
     "output_type": "stream",
     "text": [
      "accuracy 0.72651383005233\n",
      "              precision    recall  f1-score   support\n",
      "\n",
      "     economy       0.80      0.61      0.69      1258\n",
      "      turkey       0.71      0.54      0.61      1288\n",
      "       world       0.00      0.00      0.00         1\n",
      "      sports       0.00      0.00      0.00        28\n",
      "  arts  life       0.90      0.74      0.82       605\n",
      "       other       0.71      0.83      0.77      2586\n",
      "   home page       0.69      0.78      0.73      2260\n",
      "\n",
      "    accuracy                           0.73      8026\n",
      "   macro avg       0.54      0.50      0.52      8026\n",
      "weighted avg       0.73      0.73      0.72      8026\n",
      "\n"
     ]
    },
    {
     "name": "stderr",
     "output_type": "stream",
     "text": [
      "C:\\ProgramData\\Anaconda3\\lib\\site-packages\\sklearn\\metrics\\_classification.py:1272: UndefinedMetricWarning: Precision and F-score are ill-defined and being set to 0.0 in labels with no predicted samples. Use `zero_division` parameter to control this behavior.\n",
      "  _warn_prf(average, modifier, msg_start, len(result))\n"
     ]
    }
   ],
   "source": [
    "from sklearn.linear_model import SGDClassifier\n",
    "\n",
    "sgd = Pipeline([('vect', CountVectorizer()),\n",
    "                ('tfidf', TfidfTransformer()),\n",
    "                ('clf', SGDClassifier(loss='hinge', penalty='l2',alpha=1e-3, random_state=42, max_iter=5, tol=None)),\n",
    "               ])\n",
    "sgd.fit(X_train, y_train)\n",
    "\n",
    "y_pred = sgd.predict(X_test)\n",
    "\n",
    "print('accuracy %s' % accuracy_score(y_pred, y_test))\n",
    "print(classification_report(y_test, y_pred,target_names=my_tags))"
   ]
  },
  {
   "cell_type": "code",
   "execution_count": 11,
   "metadata": {},
   "outputs": [
    {
     "name": "stderr",
     "output_type": "stream",
     "text": [
      "C:\\ProgramData\\Anaconda3\\lib\\site-packages\\sklearn\\linear_model\\_logistic.py:940: ConvergenceWarning: lbfgs failed to converge (status=1):\n",
      "STOP: TOTAL NO. of ITERATIONS REACHED LIMIT.\n",
      "\n",
      "Increase the number of iterations (max_iter) or scale the data as shown in:\n",
      "    https://scikit-learn.org/stable/modules/preprocessing.html\n",
      "Please also refer to the documentation for alternative solver options:\n",
      "    https://scikit-learn.org/stable/modules/linear_model.html#logistic-regression\n",
      "  extra_warning_msg=_LOGISTIC_SOLVER_CONVERGENCE_MSG)\n"
     ]
    },
    {
     "name": "stdout",
     "output_type": "stream",
     "text": [
      "accuracy 0.7780961873909793\n",
      "              precision    recall  f1-score   support\n",
      "\n",
      "     economy       0.83      0.73      0.78      1258\n",
      "      turkey       0.83      0.63      0.72      1288\n",
      "       world       0.00      0.00      0.00         1\n",
      "      sports       0.40      0.07      0.12        28\n",
      "  arts  life       0.90      0.84      0.87       605\n",
      "       other       0.76      0.83      0.80      2586\n",
      "   home page       0.72      0.82      0.77      2260\n",
      "\n",
      "    accuracy                           0.78      8026\n",
      "   macro avg       0.64      0.56      0.58      8026\n",
      "weighted avg       0.78      0.78      0.78      8026\n",
      "\n"
     ]
    },
    {
     "name": "stderr",
     "output_type": "stream",
     "text": [
      "C:\\ProgramData\\Anaconda3\\lib\\site-packages\\sklearn\\metrics\\_classification.py:1272: UndefinedMetricWarning: Precision and F-score are ill-defined and being set to 0.0 in labels with no predicted samples. Use `zero_division` parameter to control this behavior.\n",
      "  _warn_prf(average, modifier, msg_start, len(result))\n"
     ]
    }
   ],
   "source": [
    "from sklearn.linear_model import LogisticRegression\n",
    "\n",
    "logreg = Pipeline([('vect', CountVectorizer()),\n",
    "                ('tfidf', TfidfTransformer()),\n",
    "                ('clf', LogisticRegression(n_jobs=1, C=1e5)),\n",
    "               ])\n",
    "logreg.fit(X_train, y_train)\n",
    "\n",
    "y_pred = logreg.predict(X_test)\n",
    "\n",
    "print('accuracy %s' % accuracy_score(y_pred, y_test))\n",
    "print(classification_report(y_test, y_pred,target_names=my_tags))"
   ]
  },
  {
   "cell_type": "code",
   "execution_count": 18,
   "metadata": {},
   "outputs": [
    {
     "name": "stdout",
     "output_type": "stream",
     "text": [
      "Train on 22470 samples, validate on 5618 samples\n",
      "Epoch 1/40\n",
      "22470/22470 [==============================] - 5s 236us/step - loss: 0.9666 - accuracy: 0.6737 - val_loss: 0.8280 - val_accuracy: 0.7131\n",
      "Epoch 2/40\n",
      "22470/22470 [==============================] - 5s 222us/step - loss: 0.7532 - accuracy: 0.7378 - val_loss: 0.8063 - val_accuracy: 0.7186\n",
      "Epoch 3/40\n",
      "22470/22470 [==============================] - 5s 213us/step - loss: 0.6867 - accuracy: 0.7587 - val_loss: 0.7830 - val_accuracy: 0.7300\n",
      "Epoch 4/40\n",
      "22470/22470 [==============================] - 5s 232us/step - loss: 0.6301 - accuracy: 0.7779 - val_loss: 0.7911 - val_accuracy: 0.7300\n",
      "Epoch 5/40\n",
      "22470/22470 [==============================] - 5s 222us/step - loss: 0.5862 - accuracy: 0.7947 - val_loss: 0.8053 - val_accuracy: 0.7318\n",
      "Epoch 6/40\n",
      "22470/22470 [==============================] - 5s 224us/step - loss: 0.5440 - accuracy: 0.8070 - val_loss: 0.8097 - val_accuracy: 0.7369\n",
      "Epoch 7/40\n",
      "22470/22470 [==============================] - 6s 266us/step - loss: 0.5055 - accuracy: 0.8232 - val_loss: 0.8122 - val_accuracy: 0.7408\n",
      "Epoch 8/40\n",
      "22470/22470 [==============================] - 6s 277us/step - loss: 0.4740 - accuracy: 0.8341 - val_loss: 0.8411 - val_accuracy: 0.7437\n",
      "Epoch 9/40\n",
      "22470/22470 [==============================] - 6s 256us/step - loss: 0.4450 - accuracy: 0.8424 - val_loss: 0.8490 - val_accuracy: 0.7456\n",
      "Epoch 10/40\n",
      "22470/22470 [==============================] - 6s 249us/step - loss: 0.4244 - accuracy: 0.8519 - val_loss: 0.8694 - val_accuracy: 0.7462\n",
      "Epoch 11/40\n",
      "22470/22470 [==============================] - 5s 232us/step - loss: 0.4035 - accuracy: 0.8595 - val_loss: 0.9095 - val_accuracy: 0.7453\n",
      "Epoch 12/40\n",
      "22470/22470 [==============================] - 5s 219us/step - loss: 0.3923 - accuracy: 0.8650 - val_loss: 0.9324 - val_accuracy: 0.7487\n",
      "Epoch 13/40\n",
      "22470/22470 [==============================] - 5s 240us/step - loss: 0.3813 - accuracy: 0.8676 - val_loss: 0.9511 - val_accuracy: 0.7476\n",
      "Epoch 14/40\n",
      "22470/22470 [==============================] - 5s 232us/step - loss: 0.3677 - accuracy: 0.8729 - val_loss: 0.9785 - val_accuracy: 0.7467\n",
      "Epoch 15/40\n",
      "22470/22470 [==============================] - 5s 217us/step - loss: 0.3563 - accuracy: 0.8773 - val_loss: 0.9997 - val_accuracy: 0.7483\n",
      "Epoch 16/40\n",
      "22470/22470 [==============================] - 6s 255us/step - loss: 0.3533 - accuracy: 0.8774 - val_loss: 1.0248 - val_accuracy: 0.7483\n",
      "Epoch 17/40\n",
      "22470/22470 [==============================] - 5s 244us/step - loss: 0.3434 - accuracy: 0.8798 - val_loss: 1.0575 - val_accuracy: 0.7483\n",
      "Epoch 18/40\n",
      "22470/22470 [==============================] - 6s 248us/step - loss: 0.3408 - accuracy: 0.8819 - val_loss: 1.0716 - val_accuracy: 0.7499\n",
      "Epoch 19/40\n",
      "22470/22470 [==============================] - 5s 235us/step - loss: 0.3358 - accuracy: 0.8822 - val_loss: 1.0828 - val_accuracy: 0.7528\n",
      "Epoch 20/40\n",
      "22470/22470 [==============================] - 5s 224us/step - loss: 0.3292 - accuracy: 0.8856 - val_loss: 1.1021 - val_accuracy: 0.7524\n",
      "Epoch 21/40\n",
      "22470/22470 [==============================] - 5s 237us/step - loss: 0.3284 - accuracy: 0.8857 - val_loss: 1.1240 - val_accuracy: 0.7497\n",
      "Epoch 22/40\n",
      "22470/22470 [==============================] - 5s 241us/step - loss: 0.3287 - accuracy: 0.8855 - val_loss: 1.1591 - val_accuracy: 0.7488\n",
      "Epoch 23/40\n",
      "22470/22470 [==============================] - 5s 228us/step - loss: 0.3211 - accuracy: 0.8877 - val_loss: 1.1677 - val_accuracy: 0.7499\n",
      "Epoch 24/40\n",
      "22470/22470 [==============================] - 6s 254us/step - loss: 0.3198 - accuracy: 0.8887 - val_loss: 1.2035 - val_accuracy: 0.7490\n",
      "Epoch 25/40\n",
      "22470/22470 [==============================] - 5s 239us/step - loss: 0.3178 - accuracy: 0.8896 - val_loss: 1.2158 - val_accuracy: 0.7494\n",
      "Epoch 26/40\n",
      "22470/22470 [==============================] - 5s 225us/step - loss: 0.3172 - accuracy: 0.8893 - val_loss: 1.2362 - val_accuracy: 0.7487\n",
      "Epoch 27/40\n",
      "22470/22470 [==============================] - 5s 227us/step - loss: 0.3127 - accuracy: 0.8911 - val_loss: 1.2602 - val_accuracy: 0.7496\n",
      "Epoch 28/40\n",
      "22470/22470 [==============================] - 6s 249us/step - loss: 0.3122 - accuracy: 0.8904 - val_loss: 1.2544 - val_accuracy: 0.7508\n",
      "Epoch 29/40\n",
      "22470/22470 [==============================] - 5s 233us/step - loss: 0.3101 - accuracy: 0.8898 - val_loss: 1.2900 - val_accuracy: 0.7517\n",
      "Epoch 30/40\n",
      "22470/22470 [==============================] - 6s 253us/step - loss: 0.3117 - accuracy: 0.8907 - val_loss: 1.3383 - val_accuracy: 0.7492\n",
      "Epoch 31/40\n",
      "22470/22470 [==============================] - 6s 248us/step - loss: 0.3095 - accuracy: 0.8913 - val_loss: 1.3092 - val_accuracy: 0.7522\n",
      "Epoch 32/40\n",
      "22470/22470 [==============================] - 5s 229us/step - loss: 0.3047 - accuracy: 0.8918 - val_loss: 1.3481 - val_accuracy: 0.7501\n",
      "Epoch 33/40\n",
      "22470/22470 [==============================] - 5s 230us/step - loss: 0.3049 - accuracy: 0.8931 - val_loss: 1.3441 - val_accuracy: 0.7508\n",
      "Epoch 34/40\n",
      "22470/22470 [==============================] - 6s 248us/step - loss: 0.3058 - accuracy: 0.8920 - val_loss: 1.3928 - val_accuracy: 0.7526\n",
      "Epoch 35/40\n",
      "22470/22470 [==============================] - 6s 280us/step - loss: 0.3036 - accuracy: 0.8921 - val_loss: 1.4031 - val_accuracy: 0.7515\n",
      "Epoch 36/40\n",
      "22470/22470 [==============================] - 6s 245us/step - loss: 0.3055 - accuracy: 0.8923 - val_loss: 1.4082 - val_accuracy: 0.7510\n",
      "Epoch 37/40\n",
      "22470/22470 [==============================] - 5s 239us/step - loss: 0.3049 - accuracy: 0.8923 - val_loss: 1.4115 - val_accuracy: 0.7529\n",
      "Epoch 38/40\n",
      "22470/22470 [==============================] - 6s 249us/step - loss: 0.3041 - accuracy: 0.8922 - val_loss: 1.4341 - val_accuracy: 0.7520\n",
      "Epoch 39/40\n",
      "22470/22470 [==============================] - 6s 273us/step - loss: 0.3019 - accuracy: 0.8931 - val_loss: 1.4513 - val_accuracy: 0.7522\n",
      "Epoch 40/40\n",
      "22470/22470 [==============================] - 6s 289us/step - loss: 0.3016 - accuracy: 0.8932 - val_loss: 1.4704 - val_accuracy: 0.7524\n"
     ]
    }
   ],
   "source": [
    "import itertools\n",
    "import os\n",
    "\n",
    "%matplotlib inline\n",
    "import matplotlib.pyplot as plt\n",
    "import numpy as np\n",
    "import pandas as pd\n",
    "import tensorflow as tf\n",
    "\n",
    "from sklearn.preprocessing import LabelBinarizer, LabelEncoder\n",
    "from sklearn.metrics import confusion_matrix\n",
    "\n",
    "from tensorflow import keras\n",
    "from keras.models import Sequential\n",
    "from keras.layers import Dense, Activation, Dropout\n",
    "from keras.preprocessing import text, sequence\n",
    "from keras import utils\n",
    "\n",
    "train_size = int(len(df) * .7)\n",
    "train_posts = df['temiz_haber'][:train_size]\n",
    "train_tags = df['kategori'][:train_size]\n",
    "\n",
    "test_posts = df['temiz_haber'][train_size:]\n",
    "test_tags = df['kategori'][train_size:]\n",
    "\n",
    "max_words = 1000\n",
    "tokenize = text.Tokenizer(num_words=max_words, char_level=False)\n",
    "tokenize.fit_on_texts(train_posts) # only fit on train\n",
    "\n",
    "x_train = tokenize.texts_to_matrix(train_posts)\n",
    "x_test = tokenize.texts_to_matrix(test_posts)\n",
    "\n",
    "encoder = LabelEncoder()\n",
    "encoder.fit(train_tags)\n",
    "y_train = encoder.transform(train_tags)\n",
    "y_test = encoder.transform(test_tags)\n",
    "\n",
    "num_classes = np.max(y_train) + 1\n",
    "y_train = utils.to_categorical(y_train, num_classes)\n",
    "y_test = utils.to_categorical(y_test, num_classes)\n",
    "\n",
    "batch_size = 32\n",
    "epochs = 40\n",
    "\n",
    "# Build the model\n",
    "model = Sequential()\n",
    "model.add(Dense(512, input_shape=(max_words,)))\n",
    "model.add(Activation('relu'))\n",
    "model.add(Dropout(0.5))\n",
    "model.add(Dense(num_classes))\n",
    "model.add(Activation('softmax'))\n",
    "\n",
    "model.compile(loss='categorical_crossentropy',\n",
    "              optimizer='adam',\n",
    "              metrics=['accuracy'])\n",
    "              \n",
    "history = model.fit(x_train, y_train,\n",
    "                    batch_size=batch_size,\n",
    "                    epochs=epochs,\n",
    "                    verbose=1,\n",
    "                    validation_split=0.2)"
   ]
  },
  {
   "cell_type": "code",
   "execution_count": 21,
   "metadata": {},
   "outputs": [
    {
     "name": "stdout",
     "output_type": "stream",
     "text": [
      "12038/12038 [==============================] - 0s 35us/step\n",
      "Test accuracy: 0.760425329208374\n"
     ]
    }
   ],
   "source": [
    "score = model.evaluate(x_test, y_test,\n",
    "                       batch_size=batch_size, verbose=1)\n",
    "print('Test accuracy:', score[1])"
   ]
  },
  {
   "cell_type": "code",
   "execution_count": null,
   "metadata": {},
   "outputs": [],
   "source": []
  }
 ],
 "metadata": {
  "kernelspec": {
   "display_name": "Python 3",
   "language": "python",
   "name": "python3"
  },
  "language_info": {
   "codemirror_mode": {
    "name": "ipython",
    "version": 3
   },
   "file_extension": ".py",
   "mimetype": "text/x-python",
   "name": "python",
   "nbconvert_exporter": "python",
   "pygments_lexer": "ipython3",
   "version": "3.7.6"
  }
 },
 "nbformat": 4,
 "nbformat_minor": 4
}
